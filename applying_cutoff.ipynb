{
 "cells": [
  {
   "cell_type": "code",
   "execution_count": 2,
   "metadata": {},
   "outputs": [],
   "source": [
    "import tensorflow as tf \n",
    "import matplotlib.pyplot as plt\n",
    "import os\n",
    "from tensorflow import keras\n",
    "import pandas as pd\n",
    "from tqdm import tqdm\n",
    "import glob\n",
    "import PIL\n",
    "\n",
    "# AUTOTUNE = tf.data.AUTOTUNE"
   ]
  },
  {
   "cell_type": "code",
   "execution_count": 3,
   "metadata": {},
   "outputs": [
    {
     "name": "stdout",
     "output_type": "stream",
     "text": [
      "WARNING:tensorflow:No training configuration found in the save file, so the model was *not* compiled. Compile it manually.\n"
     ]
    }
   ],
   "source": [
    "model = tf.keras.models.load_model('classificatio_model.h5')"
   ]
  },
  {
   "cell_type": "code",
   "execution_count": 4,
   "metadata": {},
   "outputs": [
    {
     "name": "stdout",
     "output_type": "stream",
     "text": [
      "Model: \"model\"\n",
      "_________________________________________________________________\n",
      "Layer (type)                 Output Shape              Param #   \n",
      "=================================================================\n",
      "input_2 (InputLayer)         [(None, 32, 32, 3)]       0         \n",
      "_________________________________________________________________\n",
      "MobilenetV3small (Functional (None, 1, 1, 1024)        1529968   \n",
      "_________________________________________________________________\n",
      "global_average_pooling2d_1 ( (None, 1024)              0         \n",
      "_________________________________________________________________\n",
      "dense (Dense)                (None, 10)                10250     \n",
      "_________________________________________________________________\n",
      "batch_normalization (BatchNo (None, 10)                40        \n",
      "_________________________________________________________________\n",
      "softmax (Softmax)            (None, 10)                0         \n",
      "=================================================================\n",
      "Total params: 1,540,258\n",
      "Trainable params: 1,528,126\n",
      "Non-trainable params: 12,132\n",
      "_________________________________________________________________\n"
     ]
    }
   ],
   "source": [
    "model.summary()"
   ]
  },
  {
   "cell_type": "code",
   "execution_count": 5,
   "metadata": {},
   "outputs": [],
   "source": [
    "RES = 32\n"
   ]
  },
  {
   "cell_type": "code",
   "execution_count": 11,
   "metadata": {},
   "outputs": [
    {
     "name": "stdout",
     "output_type": "stream",
     "text": [
      "Found 14034 files belonging to 6 classes.\n",
      "Found 3000 files belonging to 6 classes.\n"
     ]
    }
   ],
   "source": [
    "# 사용안함\n",
    "# 데이터 셋 호출 \n",
    "data_dir = \".\"\n",
    "train_dir = os.path.join(data_dir, 'seg_train', 'seg_train')\n",
    "val_dir = os.path.join(data_dir, 'seg_test', 'seg_test')\n",
    "\n",
    "train_ds = keras.preprocessing.image_dataset_from_directory(\n",
    "    train_dir,\n",
    "    shuffle=False,\n",
    "    image_size=(RES, RES),\n",
    "    # batch_size=N_BATCH\n",
    ")\n",
    "val_ds = keras.preprocessing.image_dataset_from_directory(\n",
    "    val_dir,\n",
    "    shuffle=False,\n",
    "    image_size=(RES, RES),\n",
    "    # batch_size=N_BATCH\n",
    ")\n",
    "\n",
    "train_ds = train_ds.prefetch(AUTOTUNE)\n",
    "val_ds = val_ds.prefetch(AUTOTUNE)"
   ]
  },
  {
   "cell_type": "code",
   "execution_count": 18,
   "metadata": {},
   "outputs": [
    {
     "data": {
      "text/plain": [
       "<matplotlib.image.AxesImage at 0x1b85cc0f970>"
      ]
     },
     "execution_count": 18,
     "metadata": {},
     "output_type": "execute_result"
    },
    {
     "data": {
      "image/png": "[encoded data removed]",
      "text/plain": [
       "<Figure size 432x288 with 1 Axes>"
      ]
     },
     "metadata": {
      "needs_background": "light"
     },
     "output_type": "display_data"
    }
   ],
   "source": [
    "# 사용안함\n",
    "# train_ds.shape\n",
    "for image, label in train_ds.take(1):\n",
    "    pass\n",
    "\n",
    "plt.imshow(image[0].numpy().astype('uint8'))\n",
    "# image[0].shape"
   ]
  },
  {
   "cell_type": "code",
   "execution_count": 6,
   "metadata": {},
   "outputs": [
    {
     "data": {
      "text/plain": [
       "['buildings', 'forest', 'glacier', 'mountain', 'sea', 'street']"
      ]
     },
     "execution_count": 6,
     "metadata": {},
     "output_type": "execute_result"
    }
   ],
   "source": [
    "folder_list = os.listdir('seg_train/seg_train')\n",
    "folder_list"
   ]
  },
  {
   "cell_type": "code",
   "execution_count": 24,
   "metadata": {},
   "outputs": [
    {
     "data": {
      "text/html": [
       "<div>\n",
       "<style scoped>\n",
       "    .dataframe tbody tr th:only-of-type {\n",
       "        vertical-align: middle;\n",
       "    }\n",
       "\n",
       "    .dataframe tbody tr th {\n",
       "        vertical-align: top;\n",
       "    }\n",
       "\n",
       "    .dataframe thead th {\n",
       "        text-align: right;\n",
       "    }\n",
       "</style>\n",
       "<table border=\"1\" class=\"dataframe\">\n",
       "  <thead>\n",
       "    <tr style=\"text-align: right;\">\n",
       "      <th></th>\n",
       "      <th>image_path</th>\n",
       "      <th>0</th>\n",
       "      <th>1</th>\n",
       "      <th>2</th>\n",
       "      <th>3</th>\n",
       "      <th>4</th>\n",
       "      <th>5</th>\n",
       "      <th>6</th>\n",
       "      <th>7</th>\n",
       "      <th>8</th>\n",
       "      <th>9</th>\n",
       "    </tr>\n",
       "  </thead>\n",
       "  <tbody>\n",
       "    <tr>\n",
       "      <th>0</th>\n",
       "      <td>seg_train/seg_train/buildings\\0.jpg</td>\n",
       "      <td>9.999683e-01</td>\n",
       "      <td>1.361854e-06</td>\n",
       "      <td>6.906179e-06</td>\n",
       "      <td>1.775450e-05</td>\n",
       "      <td>4.200803e-06</td>\n",
       "      <td>1.492561e-06</td>\n",
       "      <td>8.305454e-21</td>\n",
       "      <td>5.239029e-19</td>\n",
       "      <td>1.054238e-21</td>\n",
       "      <td>9.000374e-19</td>\n",
       "    </tr>\n",
       "    <tr>\n",
       "      <th>1</th>\n",
       "      <td>seg_train/seg_train/buildings\\10006.jpg</td>\n",
       "      <td>9.997237e-01</td>\n",
       "      <td>7.941216e-06</td>\n",
       "      <td>3.076276e-05</td>\n",
       "      <td>2.037189e-04</td>\n",
       "      <td>1.594497e-05</td>\n",
       "      <td>1.781594e-05</td>\n",
       "      <td>3.137069e-17</td>\n",
       "      <td>9.990489e-16</td>\n",
       "      <td>3.887617e-18</td>\n",
       "      <td>1.921403e-15</td>\n",
       "    </tr>\n",
       "    <tr>\n",
       "      <th>2</th>\n",
       "      <td>seg_train/seg_train/buildings\\1001.jpg</td>\n",
       "      <td>9.995487e-01</td>\n",
       "      <td>5.398376e-05</td>\n",
       "      <td>6.930529e-05</td>\n",
       "      <td>6.225931e-05</td>\n",
       "      <td>2.628215e-05</td>\n",
       "      <td>2.392603e-04</td>\n",
       "      <td>2.840343e-15</td>\n",
       "      <td>1.261507e-13</td>\n",
       "      <td>7.750182e-16</td>\n",
       "      <td>1.387039e-13</td>\n",
       "    </tr>\n",
       "    <tr>\n",
       "      <th>3</th>\n",
       "      <td>seg_train/seg_train/buildings\\10014.jpg</td>\n",
       "      <td>9.234645e-04</td>\n",
       "      <td>7.934677e-05</td>\n",
       "      <td>6.307434e-03</td>\n",
       "      <td>9.915576e-01</td>\n",
       "      <td>1.058316e-03</td>\n",
       "      <td>7.389826e-05</td>\n",
       "      <td>2.075920e-10</td>\n",
       "      <td>1.075287e-09</td>\n",
       "      <td>2.879689e-11</td>\n",
       "      <td>1.289411e-10</td>\n",
       "    </tr>\n",
       "    <tr>\n",
       "      <th>4</th>\n",
       "      <td>seg_train/seg_train/buildings\\10018.jpg</td>\n",
       "      <td>9.999956e-01</td>\n",
       "      <td>5.473261e-07</td>\n",
       "      <td>1.974468e-06</td>\n",
       "      <td>1.080802e-06</td>\n",
       "      <td>5.500685e-07</td>\n",
       "      <td>1.098406e-07</td>\n",
       "      <td>5.761624e-24</td>\n",
       "      <td>1.374467e-21</td>\n",
       "      <td>6.609033e-25</td>\n",
       "      <td>1.484951e-21</td>\n",
       "    </tr>\n",
       "    <tr>\n",
       "      <th>...</th>\n",
       "      <td>...</td>\n",
       "      <td>...</td>\n",
       "      <td>...</td>\n",
       "      <td>...</td>\n",
       "      <td>...</td>\n",
       "      <td>...</td>\n",
       "      <td>...</td>\n",
       "      <td>...</td>\n",
       "      <td>...</td>\n",
       "      <td>...</td>\n",
       "      <td>...</td>\n",
       "    </tr>\n",
       "    <tr>\n",
       "      <th>14029</th>\n",
       "      <td>seg_train/seg_train/street\\9961.jpg</td>\n",
       "      <td>4.800708e-07</td>\n",
       "      <td>1.213376e-05</td>\n",
       "      <td>1.236870e-06</td>\n",
       "      <td>9.785554e-09</td>\n",
       "      <td>1.278704e-07</td>\n",
       "      <td>9.999861e-01</td>\n",
       "      <td>3.701496e-21</td>\n",
       "      <td>1.838479e-21</td>\n",
       "      <td>2.463993e-25</td>\n",
       "      <td>6.507733e-22</td>\n",
       "    </tr>\n",
       "    <tr>\n",
       "      <th>14030</th>\n",
       "      <td>seg_train/seg_train/street\\9967.jpg</td>\n",
       "      <td>1.079406e-06</td>\n",
       "      <td>4.788884e-05</td>\n",
       "      <td>2.727447e-06</td>\n",
       "      <td>4.970615e-08</td>\n",
       "      <td>7.199447e-08</td>\n",
       "      <td>9.999481e-01</td>\n",
       "      <td>4.822676e-20</td>\n",
       "      <td>7.515236e-20</td>\n",
       "      <td>2.608322e-23</td>\n",
       "      <td>1.128402e-20</td>\n",
       "    </tr>\n",
       "    <tr>\n",
       "      <th>14031</th>\n",
       "      <td>seg_train/seg_train/street\\9978.jpg</td>\n",
       "      <td>3.327463e-05</td>\n",
       "      <td>4.222116e-04</td>\n",
       "      <td>4.214876e-05</td>\n",
       "      <td>2.131288e-06</td>\n",
       "      <td>6.188242e-06</td>\n",
       "      <td>9.994940e-01</td>\n",
       "      <td>3.029379e-15</td>\n",
       "      <td>1.596870e-15</td>\n",
       "      <td>1.416129e-17</td>\n",
       "      <td>1.507383e-15</td>\n",
       "    </tr>\n",
       "    <tr>\n",
       "      <th>14032</th>\n",
       "      <td>seg_train/seg_train/street\\9989.jpg</td>\n",
       "      <td>4.436808e-07</td>\n",
       "      <td>4.214704e-06</td>\n",
       "      <td>1.745789e-07</td>\n",
       "      <td>9.935647e-10</td>\n",
       "      <td>1.214095e-08</td>\n",
       "      <td>9.999952e-01</td>\n",
       "      <td>1.840207e-22</td>\n",
       "      <td>4.396410e-22</td>\n",
       "      <td>5.151496e-26</td>\n",
       "      <td>2.647350e-23</td>\n",
       "    </tr>\n",
       "    <tr>\n",
       "      <th>14033</th>\n",
       "      <td>seg_train/seg_train/street\\999.jpg</td>\n",
       "      <td>1.234674e-03</td>\n",
       "      <td>9.972757e-01</td>\n",
       "      <td>1.214147e-03</td>\n",
       "      <td>1.674985e-05</td>\n",
       "      <td>4.211542e-05</td>\n",
       "      <td>2.166216e-04</td>\n",
       "      <td>5.887516e-15</td>\n",
       "      <td>8.433835e-14</td>\n",
       "      <td>4.655024e-17</td>\n",
       "      <td>2.564118e-13</td>\n",
       "    </tr>\n",
       "  </tbody>\n",
       "</table>\n",
       "<p>14034 rows × 11 columns</p>\n",
       "</div>"
      ],
      "text/plain": [
       "                                    image_path             0             1  \\\n",
       "0          seg_train/seg_train/buildings\\0.jpg  9.999683e-01  1.361854e-06   \n",
       "1      seg_train/seg_train/buildings\\10006.jpg  9.997237e-01  7.941216e-06   \n",
       "2       seg_train/seg_train/buildings\\1001.jpg  9.995487e-01  5.398376e-05   \n",
       "3      seg_train/seg_train/buildings\\10014.jpg  9.234645e-04  7.934677e-05   \n",
       "4      seg_train/seg_train/buildings\\10018.jpg  9.999956e-01  5.473261e-07   \n",
       "...                                        ...           ...           ...   \n",
       "14029      seg_train/seg_train/street\\9961.jpg  4.800708e-07  1.213376e-05   \n",
       "14030      seg_train/seg_train/street\\9967.jpg  1.079406e-06  4.788884e-05   \n",
       "14031      seg_train/seg_train/street\\9978.jpg  3.327463e-05  4.222116e-04   \n",
       "14032      seg_train/seg_train/street\\9989.jpg  4.436808e-07  4.214704e-06   \n",
       "14033       seg_train/seg_train/street\\999.jpg  1.234674e-03  9.972757e-01   \n",
       "\n",
       "                  2             3             4             5             6  \\\n",
       "0      6.906179e-06  1.775450e-05  4.200803e-06  1.492561e-06  8.305454e-21   \n",
       "1      3.076276e-05  2.037189e-04  1.594497e-05  1.781594e-05  3.137069e-17   \n",
       "2      6.930529e-05  6.225931e-05  2.628215e-05  2.392603e-04  2.840343e-15   \n",
       "3      6.307434e-03  9.915576e-01  1.058316e-03  7.389826e-05  2.075920e-10   \n",
       "4      1.974468e-06  1.080802e-06  5.500685e-07  1.098406e-07  5.761624e-24   \n",
       "...             ...           ...           ...           ...           ...   \n",
       "14029  1.236870e-06  9.785554e-09  1.278704e-07  9.999861e-01  3.701496e-21   \n",
       "14030  2.727447e-06  4.970615e-08  7.199447e-08  9.999481e-01  4.822676e-20   \n",
       "14031  4.214876e-05  2.131288e-06  6.188242e-06  9.994940e-01  3.029379e-15   \n",
       "14032  1.745789e-07  9.935647e-10  1.214095e-08  9.999952e-01  1.840207e-22   \n",
       "14033  1.214147e-03  1.674985e-05  4.211542e-05  2.166216e-04  5.887516e-15   \n",
       "\n",
       "                  7             8             9  \n",
       "0      5.239029e-19  1.054238e-21  9.000374e-19  \n",
       "1      9.990489e-16  3.887617e-18  1.921403e-15  \n",
       "2      1.261507e-13  7.750182e-16  1.387039e-13  \n",
       "3      1.075287e-09  2.879689e-11  1.289411e-10  \n",
       "4      1.374467e-21  6.609033e-25  1.484951e-21  \n",
       "...             ...           ...           ...  \n",
       "14029  1.838479e-21  2.463993e-25  6.507733e-22  \n",
       "14030  7.515236e-20  2.608322e-23  1.128402e-20  \n",
       "14031  1.596870e-15  1.416129e-17  1.507383e-15  \n",
       "14032  4.396410e-22  5.151496e-26  2.647350e-23  \n",
       "14033  8.433835e-14  4.655024e-17  2.564118e-13  \n",
       "\n",
       "[14034 rows x 11 columns]"
      ]
     },
     "execution_count": 24,
     "metadata": {},
     "output_type": "execute_result"
    }
   ],
   "source": [
    "# image_list = glob.glob(folder_list + '*.png')\n",
    "map = pd.DataFrame(columns=['image_path', '0', '1', '2', '3', '4', '5', '6' , '7', '8', '9'])\n",
    "\n",
    "\n",
    "for folder in folder_list:\n",
    "    \n",
    "    images_list = glob.glob('seg_train/seg_train/' + folder + '/*.jpg')\n",
    "    # print(len(images))\n",
    "    \n",
    "    for image_path in images_list:\n",
    "        # print(type(image))\n",
    "        # print(images)\n",
    "        # img = tf.io.decode_image(image_path)\n",
    "        img = tf.keras.preprocessing.image.load_img(image_path, target_size=(RES, RES))\n",
    "        # img = tf.image.decode_jpeg(image_path)\n",
    "        # img = tf.image.resize(img, (RES, RES))\n",
    "        # img = tf.keras.preprocessing.resize(img)\n",
    "        # print(img.shape)\n",
    "        img_tensor = tf.keras.preprocessing.image.img_to_array(img)\n",
    "        # print(img_tensor.shape)\n",
    "        # img_tensor = img_tensor[tf.newaxis, ...]\n",
    "        pred = model.predict(img_tensor[tf.newaxis, ...])\n",
    "        \n",
    "        map = map.append({'image_path' : image_path, \n",
    "                    '0' : pred[0][0],\n",
    "                    '1' : pred[0][1], \n",
    "                    '2' : pred[0][2], \n",
    "                    '3' : pred[0][3], \n",
    "                    '4' : pred[0][4], \n",
    "                    '5' : pred[0][5], \n",
    "                    '6' : pred[0][6], \n",
    "                    '7' : pred[0][7], \n",
    "                    '8' : pred[0][8], \n",
    "                    '9' : pred[0][9]}, ignore_index=True)\n",
    "        \n",
    "        \n",
    "map\n",
    "        \n",
    "        \n",
    "\n"
   ]
  },
  {
   "cell_type": "code",
   "execution_count": 25,
   "metadata": {},
   "outputs": [],
   "source": [
    "map.to_csv('map.csv')"
   ]
  }
 ],
 "metadata": {
  "interpreter": {
   "hash": "2ad7f8df95050390ccef3c53b91cc5366ee05cbbc975f965dd0a4e5b2556ae66"
  },
  "kernelspec": {
   "display_name": "Python 3.9.6 64-bit",
   "language": "python",
   "name": "python3"
  },
  "language_info": {
   "codemirror_mode": {
    "name": "ipython",
    "version": 3
   },
   "file_extension": ".py",
   "mimetype": "text/x-python",
   "name": "python",
   "nbconvert_exporter": "python",
   "pygments_lexer": "ipython3",
   "version": "3.9.5"
  },
  "orig_nbformat": 4
 },
 "nbformat": 4,
 "nbformat_minor": 2
}
