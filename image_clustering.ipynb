{
 "cells": [
  {
   "cell_type": "markdown",
   "metadata": {},
   "source": [
    "Semantic Image Clustering "
   ]
  },
  {
   "cell_type": "code",
   "execution_count": 27,
   "metadata": {},
   "outputs": [],
   "source": [
    "from collections import defaultdict\n",
    "import random \n",
    "import numpy as np \n",
    "import tensorflow as tf \n",
    "import tensorflow_addons as tfa\n",
    "import matplotlib.pyplot as plt "
   ]
  },
  {
   "cell_type": "code",
   "execution_count": 2,
   "metadata": {},
   "outputs": [],
   "source": [
    "N_CLASS = 10 \n",
    "RES_SIZE = 32"
   ]
  },
  {
   "cell_type": "code",
   "execution_count": 4,
   "metadata": {},
   "outputs": [],
   "source": [
    "import ssl\n",
    "\n",
    "ssl._create_default_https_context = ssl._create_unverified_context"
   ]
  },
  {
   "cell_type": "code",
   "execution_count": 8,
   "metadata": {},
   "outputs": [
    {
     "data": {
      "text/plain": [
       "(50000, 32, 32, 3)"
      ]
     },
     "execution_count": 8,
     "metadata": {},
     "output_type": "execute_result"
    }
   ],
   "source": [
    "(x_train, y_train), (x_test, y_test) = tf.keras.datasets.cifar10.load_data()\n",
    "\n",
    "x_train.shape"
   ]
  },
  {
   "cell_type": "code",
   "execution_count": 15,
   "metadata": {},
   "outputs": [],
   "source": [
    "x_data = np.concatenate([x_train, x_test])\n",
    "y_data = np.concatenate([y_train, y_test])"
   ]
  },
  {
   "cell_type": "code",
   "execution_count": 10,
   "metadata": {},
   "outputs": [],
   "source": [
    "# y_train = np.unique(y_train)\n",
    "# y_train\n",
    "classes = [\n",
    "    \"airplane\",\n",
    "    \"automobile\",\n",
    "    \"bird\",\n",
    "    \"cat\",\n",
    "    \"deer\",\n",
    "    \"dog\",\n",
    "    \"frog\",\n",
    "    \"horse\",\n",
    "    \"ship\",\n",
    "    \"truck\",\n",
    "]"
   ]
  },
  {
   "cell_type": "code",
   "execution_count": 12,
   "metadata": {},
   "outputs": [],
   "source": [
    "target_size = 32  # Resize the input images.\n",
    "representation_dim = 512  # The dimensions of the features vector.\n",
    "projection_units = 128  # The projection head of the representation learner.\n",
    "num_clusters = 20  # Number of clusters.\n",
    "k_neighbours = 5  # Number of neighbours to consider during cluster learning.\n",
    "tune_encoder_during_clustering = False  # Freeze the encoder in the cluster learning."
   ]
  },
  {
   "cell_type": "code",
   "execution_count": 20,
   "metadata": {},
   "outputs": [],
   "source": [
    "data_preprocessing = tf.keras.Sequential(\n",
    "    [\n",
    "    tf.keras.layers.Resizing(RES_SIZE, RES_SIZE), \n",
    "    tf.keras.layers.Normalization()\n",
    "    ]\n",
    ")\n",
    "\n",
    "# print(data_preprocessing.layers[-1])\n",
    "data_preprocessing.layers[-1].adapt(x_data)"
   ]
  },
  {
   "cell_type": "code",
   "execution_count": 21,
   "metadata": {},
   "outputs": [],
   "source": [
    "data_augmentation = tf.keras.Sequential(\n",
    "    [\n",
    "        tf.keras.layers.RandomTranslation(\n",
    "            height_factor=(-0.2, 0.2), \n",
    "            width_factor=(-0.2, 0.2), \n",
    "            fill_mode='nearest'\n",
    "        ),\n",
    "        tf.keras.layers.RandomFlip(mode='horizontal'), \n",
    "        tf.keras.layers.RandomRotation(factor=0.15, fill_mode='nearest'), \n",
    "        tf.keras.layers.RandomZoom(\n",
    "            height_factor=(-0.3, 0.1), width_factor=(-0.3, 0.1), fill_mode='nearest'\n",
    "        )\n",
    "    ]\n",
    ")"
   ]
  },
  {
   "cell_type": "code",
   "execution_count": 23,
   "metadata": {},
   "outputs": [
    {
     "data": {
      "image/png": "[encoded data removed]",
      "text/plain": [
       "<Figure size 216x216 with 1 Axes>"
      ]
     },
     "metadata": {
      "needs_background": "light"
     },
     "output_type": "display_data"
    }
   ],
   "source": [
    "image_idx = np.random.choice(range(x_data.shape[0]))\n",
    "image = x_data[image_idx]\n",
    "image_class = classes[y_data[image_idx][0]]\n",
    "\n",
    "plt.figure(figsize=(3, 3))\n",
    "plt.imshow(x_data[image_idx].astype('uint8'))\n",
    "plt.title(image_class)\n",
    "\n",
    "_ = plt.axis('off')\n",
    "                              "
   ]
  },
  {
   "cell_type": "code",
   "execution_count": 24,
   "metadata": {},
   "outputs": [],
   "source": [
    "def create_encoder(representation_dim): \n",
    "    encoder = tf.keras.Sequential(\n",
    "        [\n",
    "            tf.keras.applications.ResNet50V2(\n",
    "                include_top=False, weights=None, pooling='avg'\n",
    "            ), \n",
    "            tf.keras.layers.Dense(representation_dim)\n",
    "            \n",
    "        ]\n",
    "    )\n",
    "    \n",
    "    return encoder"
   ]
  },
  {
   "cell_type": "code",
   "execution_count": 35,
   "metadata": {},
   "outputs": [],
   "source": [
    "class RepresentationLearner(tf.keras.Model):\n",
    "    def __init__(self, encoder, projection_units, num_agumentation, temperature=1.0, dropout_rate=0.1, l2_normlization=False, **kwargs):\n",
    "        \n",
    "        super(RepresentationLearner, self).__init__(**kwargs) \n",
    "        self.encoder = encoder\n",
    "        \n",
    "        self.projector = tf.keras.Sequential(\n",
    "            [\n",
    "                tf.keras.layers.Dropout(dropout_rate), \n",
    "                tf.keras.layers.Dense(units=projection_units, use_bias=False), \n",
    "                tf.keras.layers.BatchNormalization(),\n",
    "                tf.keras.layers.ReLU()\n",
    "            ]\n",
    "        )\n",
    "        \n",
    "        self.num_agumentation = num_agumentation\n",
    "        self.temperature = temperature \n",
    "        self.l2_normlization = l2_normlization \n",
    "        self.loss_tracker = tf.keras.metrics.Mean(name='loss')\n",
    "        \n",
    "        \n",
    "    @property\n",
    "    def metrics(self): \n",
    "        return [self.loss_tracker]\n",
    "    \n",
    "    def compute_contrastive_loss(self, feature_vectors, batch_size): \n",
    "        num_augmentations = tf.shape(feature_vectors)[0] // batch_size\n",
    "        \n",
    "        if self.l2_normlization:\n",
    "            feature_vectors = tf.math.l2_normalize(feature_vectors, -1)\n",
    "            \n",
    "        logits = (\n",
    "            tf.linalg.matmul(feature_vectors, feature_vectors, transpose_b = True) / self.temperature\n",
    "        )\n",
    "        \n",
    "        logits_max = tf.math.reduce_max(logits, axis=1)\n",
    "        \n",
    "        targets = tf.tile(tf.eye(batch_size), [num_augmentations, num_augmentations])\n",
    "        \n",
    "        return tf.keras.losses.categorical_crossentropy(\n",
    "            y_true=targets, y_pred=logits, from_logits=True\n",
    "        )\n",
    "        \n",
    "    def call(self, inputs):\n",
    "        preprocessed = data_preprocessing(inputs)\n",
    "        \n",
    "        augmented = [] \n",
    "        \n",
    "        for _ in range(self.num_agumentation): \n",
    "            augmented.append(data_augmentation(preprocessed))\n",
    "            \n",
    "        augmented = tf.keras.layers.Concatenate(axis=0)(augmented)\n",
    "        \n",
    "        features = self.encoder(augmented)\n",
    "        \n",
    "        return self.projector(features)\n",
    "    \n",
    "    def train_step(self, inputs): \n",
    "        batch_size = tf.shape(inputs)[0]\n",
    "        \n",
    "        with tf.GradientTape() as tape:\n",
    "            feature_vectors = self(inputs, training=True) \n",
    "            loss = self.compute_contrastive_loss(feature_vectors, batch_size)\n",
    "            \n",
    "        trainable_vars = self.trainable_variables\n",
    "        gradients = tape.gradient(loss, trainable_vars)\n",
    "        self.optimizer.apply_gradients(zip(gradients, trainable_vars))\n",
    "        self.loss_tracker.update_state(loss)\n",
    "        \n",
    "        return {m.name : m.result() for m in self.metrics}\n",
    "    \n",
    "    def test_step(self, inputs):\n",
    "        batch_size = tf.shape(inputs)[0]\n",
    "        feature_vectors = self(inputs, training=False) \n",
    "        loss = self.compute_contrastive_loss(feature_vectors, batch_size)    \n",
    "        self.loss_tracker.update_state(loss)\n",
    "        \n",
    "        return {'loss' : self.loss_tracker.result()}"
   ]
  },
  {
   "cell_type": "code",
   "execution_count": 38,
   "metadata": {},
   "outputs": [
    {
     "name": "stdout",
     "output_type": "stream",
     "text": [
      "Epoch 1/50\n",
      "118/118 [==============================] - 48s 265ms/step - loss: 263.2459\n",
      "Epoch 2/50\n",
      "118/118 [==============================] - 29s 249ms/step - loss: 420.4306\n",
      "Epoch 3/50\n",
      "118/118 [==============================] - 30s 256ms/step - loss: 449.9218\n",
      "Epoch 4/50\n",
      "118/118 [==============================] - 30s 253ms/step - loss: 374.3980\n",
      "Epoch 5/50\n",
      "118/118 [==============================] - 30s 253ms/step - loss: 330.7078\n",
      "Epoch 6/50\n",
      "118/118 [==============================] - 30s 252ms/step - loss: 305.4851\n",
      "Epoch 7/50\n",
      "118/118 [==============================] - 29s 247ms/step - loss: 298.2275\n",
      "Epoch 8/50\n",
      "118/118 [==============================] - 30s 255ms/step - loss: 294.8601\n",
      "Epoch 9/50\n",
      "118/118 [==============================] - 30s 255ms/step - loss: 284.5606\n",
      "Epoch 10/50\n",
      "118/118 [==============================] - 30s 255ms/step - loss: 254.2688\n",
      "Epoch 11/50\n",
      "118/118 [==============================] - 30s 255ms/step - loss: 279.0839\n",
      "Epoch 12/50\n",
      "118/118 [==============================] - 30s 255ms/step - loss: 266.0429\n",
      "Epoch 13/50\n",
      "118/118 [==============================] - 30s 257ms/step - loss: 261.3124\n",
      "Epoch 14/50\n",
      "118/118 [==============================] - 31s 262ms/step - loss: 296.3313\n",
      "Epoch 15/50\n",
      "118/118 [==============================] - 30s 253ms/step - loss: 263.4849\n",
      "Epoch 16/50\n",
      "118/118 [==============================] - 28s 241ms/step - loss: 250.1983\n",
      "Epoch 17/50\n",
      "118/118 [==============================] - 28s 241ms/step - loss: 256.4037\n",
      "Epoch 18/50\n",
      "118/118 [==============================] - 28s 240ms/step - loss: 265.7099\n",
      "Epoch 19/50\n",
      "118/118 [==============================] - 28s 240ms/step - loss: 246.0090\n",
      "Epoch 20/50\n",
      "118/118 [==============================] - 28s 240ms/step - loss: 239.1646\n",
      "Epoch 21/50\n",
      "118/118 [==============================] - 28s 240ms/step - loss: 282.6216\n",
      "Epoch 22/50\n",
      "118/118 [==============================] - 28s 240ms/step - loss: 258.1133\n",
      "Epoch 23/50\n",
      "118/118 [==============================] - 28s 239ms/step - loss: 357.8999\n",
      "Epoch 24/50\n",
      "118/118 [==============================] - 28s 241ms/step - loss: 318.8250\n",
      "Epoch 25/50\n",
      "118/118 [==============================] - 28s 240ms/step - loss: 311.9862\n",
      "Epoch 26/50\n",
      "118/118 [==============================] - 28s 241ms/step - loss: 349.2750\n",
      "Epoch 27/50\n",
      "118/118 [==============================] - 29s 242ms/step - loss: 353.3261\n",
      "Epoch 28/50\n",
      "118/118 [==============================] - 28s 236ms/step - loss: 366.9262\n",
      "Epoch 29/50\n",
      "118/118 [==============================] - 28s 239ms/step - loss: 323.6879\n",
      "Epoch 30/50\n",
      "118/118 [==============================] - 29s 242ms/step - loss: 271.1947\n",
      "Epoch 31/50\n",
      "118/118 [==============================] - 31s 264ms/step - loss: 233.9179\n",
      "Epoch 32/50\n",
      "118/118 [==============================] - 31s 264ms/step - loss: 204.5426\n",
      "Epoch 33/50\n",
      "118/118 [==============================] - 31s 264ms/step - loss: 203.7789\n",
      "Epoch 34/50\n",
      "118/118 [==============================] - 31s 261ms/step - loss: 216.5177\n",
      "Epoch 35/50\n",
      "118/118 [==============================] - 29s 250ms/step - loss: 219.3607\n",
      "Epoch 36/50\n",
      "118/118 [==============================] - 30s 251ms/step - loss: 287.4242\n",
      "Epoch 37/50\n",
      "118/118 [==============================] - 30s 253ms/step - loss: 240.3259\n",
      "Epoch 38/50\n",
      "118/118 [==============================] - 31s 260ms/step - loss: 207.3851\n",
      "Epoch 39/50\n",
      "118/118 [==============================] - 31s 260ms/step - loss: 221.1509\n",
      "Epoch 40/50\n",
      "118/118 [==============================] - 30s 255ms/step - loss: 213.4778\n",
      "Epoch 41/50\n",
      "118/118 [==============================] - 30s 254ms/step - loss: 198.6889\n",
      "Epoch 42/50\n",
      "118/118 [==============================] - 29s 248ms/step - loss: 189.2024\n",
      "Epoch 43/50\n",
      "118/118 [==============================] - 30s 253ms/step - loss: 191.1307\n",
      "Epoch 44/50\n",
      "118/118 [==============================] - 30s 251ms/step - loss: 217.9225\n",
      "Epoch 45/50\n",
      "118/118 [==============================] - 30s 252ms/step - loss: 209.6320\n",
      "Epoch 46/50\n",
      "118/118 [==============================] - 30s 253ms/step - loss: 198.8671\n",
      "Epoch 47/50\n",
      "118/118 [==============================] - 29s 249ms/step - loss: 198.6168\n",
      "Epoch 48/50\n",
      "118/118 [==============================] - 30s 251ms/step - loss: 179.4646\n",
      "Epoch 49/50\n",
      "118/118 [==============================] - 29s 249ms/step - loss: 180.9624\n",
      "Epoch 50/50\n",
      "118/118 [==============================] - 30s 251ms/step - loss: 177.7951\n"
     ]
    }
   ],
   "source": [
    "encoder = create_encoder(representation_dim)\n",
    "\n",
    "representation_learner = RepresentationLearner(\n",
    "    encoder, projection_units, num_agumentation=2, temperature=0.1\n",
    ")\n",
    "\n",
    "lr_schedule = tf.keras.optimizers.schedules.CosineDecay(\n",
    "    initial_learning_rate=0.001, decay_steps=500, alpha=0.1\n",
    ")\n",
    "\n",
    "representation_learner.compile(\n",
    "    optimizer=tfa.optimizers.AdamW(learning_rate=lr_schedule,\n",
    "                                   weight_decay=0.0001)\n",
    ")\n",
    "\n",
    "hist = representation_learner.fit(\n",
    "    x = x_data, \n",
    "    batch_size=512, \n",
    "    epochs=50\n",
    ")"
   ]
  },
  {
   "cell_type": "code",
   "execution_count": null,
   "metadata": {},
   "outputs": [],
   "source": []
  }
 ],
 "metadata": {
  "interpreter": {
   "hash": "2ad7f8df95050390ccef3c53b91cc5366ee05cbbc975f965dd0a4e5b2556ae66"
  },
  "kernelspec": {
   "display_name": "Python 3.9.6 64-bit",
   "language": "python",
   "name": "python3"
  },
  "language_info": {
   "codemirror_mode": {
    "name": "ipython",
    "version": 3
   },
   "file_extension": ".py",
   "mimetype": "text/x-python",
   "name": "python",
   "nbconvert_exporter": "python",
   "pygments_lexer": "ipython3",
   "version": "3.9.6"
  },
  "orig_nbformat": 4
 },
 "nbformat": 4,
 "nbformat_minor": 2
}
